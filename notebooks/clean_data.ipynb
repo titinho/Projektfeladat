{
 "cells": [
  {
   "cell_type": "markdown",
   "id": "c3fd1aef",
   "metadata": {},
   "source": [
    "# Data Cleaning"
   ]
  },
  {
   "cell_type": "code",
   "execution_count": 1,
   "id": "0191c5c7",
   "metadata": {},
   "outputs": [],
   "source": [
    "import matplotlib.pyplot as plt\n",
    "import pandas as pd\n",
    "from pathlib import Path"
   ]
  },
  {
   "cell_type": "code",
   "execution_count": 2,
   "id": "5939cbf3",
   "metadata": {},
   "outputs": [],
   "source": [
    "RAW_DIR: Path = Path(\"../data/raw\")\n",
    "PROCESSED_DIR: Path = Path(\"../data/processed\")"
   ]
  },
  {
   "cell_type": "code",
   "execution_count": 3,
   "id": "3d953922",
   "metadata": {},
   "outputs": [],
   "source": [
    "def load_data(raw_dir: Path, date_format: str, encoding: str)-> pd.DataFrame:\n",
    "    dfs:list[pd.DataFrame] = []\n",
    "    for file in raw_dir.glob(\"*.csv\"):\n",
    "        df = pd.read_csv(\n",
    "            file,\n",
    "            date_format=date_format,\n",
    "            encoding=encoding,\n",
    "            parse_dates=[\"Dátum\"],\n",
    "            index_col=\"Dátum\"\n",
    "        )\n",
    "        dfs.append(df)\n",
    "    combined = pd.concat(dfs, ignore_index=False)\n",
    "    return combined.sort_index()\n",
    "\n",
    "def save_data(df: pd.DataFrame, output_file: Path):\n",
    "    df.to_csv(PROCESSED_DIR/output_file, float_format=\"%.2f\")"
   ]
  },
  {
   "cell_type": "markdown",
   "id": "5c9d77f6",
   "metadata": {},
   "source": [
    "## Clean BUX Data"
   ]
  },
  {
   "cell_type": "code",
   "execution_count": 4,
   "id": "2713db16",
   "metadata": {},
   "outputs": [],
   "source": [
    "df = load_data(RAW_DIR/\"bux\", \"%Y.%m.%d.\", 'utf-8')\n",
    "df = df.drop(columns=[\"Név\"])\n",
    "df = df.resample(\"B\").asfreq().interpolate(method=\"time\")\n",
    "save_data(df, \"bux.csv\")\n",
    "\n",
    "# df.plot();\n",
    "# plt.tight_layout(); plt.show()"
   ]
  },
  {
   "cell_type": "markdown",
   "id": "040371e0",
   "metadata": {},
   "source": [
    "## Clean KSH GDP Data"
   ]
  },
  {
   "cell_type": "markdown",
   "id": "07547538",
   "metadata": {},
   "source": [
    "### Prepare table to read"
   ]
  },
  {
   "cell_type": "code",
   "execution_count": 5,
   "id": "bd75cc3b",
   "metadata": {},
   "outputs": [],
   "source": [
    "def load_ksh_data(raw_dir: Path, column_in: str) -> pd.DataFrame:\n",
    "    columns = [\"Dátum\", column_in]\n",
    "    data = []\n",
    "    quarter_map = {\"I\": 1, \"II\": 2, \"III\": 3, \"IV\": 4}\n",
    "        \n",
    "    for file_name in raw_dir.glob(\"*.csv\"):\n",
    "        with open(file_name, \"r\", encoding=\"iso-8859-2\") as file:\n",
    "            # Ignore the first line\n",
    "            next(file)\n",
    "            \n",
    "            # Save the title line\n",
    "            column_num = 0\n",
    "            headers = next(file)\n",
    "            for i, header in enumerate(headers.split(\";\")):\n",
    "                if header.strip() == column_in:\n",
    "                    column_num = i\n",
    "\n",
    "            year = 0\n",
    "            for num, line in enumerate(file):\n",
    "                cells = line.split(\";\")\n",
    "                row = []\n",
    "                \n",
    "                for i, cell in enumerate(cells):\n",
    "                    cell = cell.strip()\n",
    "                    if i == 0:\n",
    "                        if cell != \"\":\n",
    "                            year = int(cell[:-1])\n",
    "                        else:\n",
    "                            cell = year\n",
    "                    elif i == 1:\n",
    "                        try:\n",
    "                            quarter = quarter_map[cell[:-1]]\n",
    "                            period = f\"{year}Q{quarter}\"\n",
    "                            date = pd.Period(period, freq=\"Q\").start_time\n",
    "                            row.append(date.strftime(\"%Y-%m-%d\"))\n",
    "                        except KeyError:\n",
    "                            print(f\"Skipping row {num}: Invalid quarter '{cell[:-1]}'\")\n",
    "                            break\n",
    "                    elif i == column_num:\n",
    "                        try:\n",
    "                            value = float(cell.replace(\",\", \".\"))\n",
    "                            row.append(value)\n",
    "                        except ValueError:\n",
    "                            row = []\n",
    "                            print(f\"Skipping row {num}: Invalid float '{cell}'\")\n",
    "                            break\n",
    "                if len(row) > 0:\n",
    "                    data.append(row)\n",
    "    \n",
    "    df = pd.DataFrame(data, columns=columns)\n",
    "    df['Dátum'] = pd.to_datetime(df['Dátum'], format='%Y-%m-%d')\n",
    "    df.set_index('Dátum', inplace=True)\n",
    "    return df\n",
    "                            "
   ]
  },
  {
   "cell_type": "code",
   "execution_count": null,
   "id": "bb9e28d9",
   "metadata": {},
   "outputs": [
    {
     "name": "stdout",
     "output_type": "stream",
     "text": [
      "Skipping row 117: Invalid float ''\n",
      "Skipping row 118: Invalid float ''\n",
      "Skipping row 119: Invalid float ''\n",
      "Skipping row 120: Invalid quarter 'IIV'\n"
     ]
    }
   ],
   "source": [
    "kind = \"gdp\"\n",
    "raw_dir = RAW_DIR/\"ksh\"/kind\n",
    "column_in = \"Szezonálisan és naptárhatással kiigazított és kiegyensúlyozott adatok (előző negyedév=100,0%)\"\n",
    "df = load_ksh_data(raw_dir, column_in)\n",
    "save_data(df, f\"{kind}.csv\")"
   ]
  },
  {
   "cell_type": "markdown",
   "id": "d27d1df4",
   "metadata": {},
   "source": [
    "## Clean KSH Inflation Data"
   ]
  },
  {
   "cell_type": "code",
   "execution_count": 20,
   "id": "c78b964a",
   "metadata": {},
   "outputs": [
    {
     "name": "stdout",
     "output_type": "stream",
     "text": [
      "Skipping row 30: Invalid float ''\n"
     ]
    }
   ],
   "source": [
    "file_name = \"1995m01_2025_m04_core_inflation.csv\"\n",
    "path = raw_dir = RAW_DIR/\"ksh\"/\"inflation\"/file_name\n",
    "\n",
    "columns = [\"Dátum\", \"Havi maginfláció\"]\n",
    "data = []\n",
    "\n",
    "with open(path, \"r\", encoding=\"iso-8859-2\") as file:\n",
    "    headers = []\n",
    "    for header in next(file).split(\",\"):\n",
    "        header = header.strip()\n",
    "        if header != \"\":\n",
    "            headers.append(header)\n",
    "    \n",
    "    for num, line in enumerate(file):\n",
    "        year = \"\"\n",
    "        for i, cell in enumerate(line.split(\",\")):\n",
    "            cell = cell.strip()\n",
    "            if i == 0:\n",
    "                year = cell\n",
    "            else:\n",
    "                try:\n",
    "                    value = float(cell.replace(\",\", \".\"))\n",
    "                    data.append([f\"{year}-{headers[i-1]}\", value])\n",
    "                except ValueError:\n",
    "                    print(f\"Skipping row {num}: Invalid float '{cell}'\")\n",
    "                    break\n",
    "\n",
    "df = pd.DataFrame(data, columns=columns)\n",
    "df['Dátum'] = pd.to_datetime(df['Dátum'], format='%Y-%m')\n",
    "df.set_index('Dátum', inplace=True)\n",
    "\n",
    "save_data(df, \"inflation.csv\")"
   ]
  },
  {
   "cell_type": "code",
   "execution_count": null,
   "id": "49860890",
   "metadata": {},
   "outputs": [],
   "source": []
  }
 ],
 "metadata": {
  "kernelspec": {
   "display_name": ".venv",
   "language": "python",
   "name": "python3"
  },
  "language_info": {
   "codemirror_mode": {
    "name": "ipython",
    "version": 3
   },
   "file_extension": ".py",
   "mimetype": "text/x-python",
   "name": "python",
   "nbconvert_exporter": "python",
   "pygments_lexer": "ipython3",
   "version": "3.13.4"
  }
 },
 "nbformat": 4,
 "nbformat_minor": 5
}
