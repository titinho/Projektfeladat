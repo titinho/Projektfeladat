{
 "cells": [
  {
   "cell_type": "markdown",
   "id": "2856d951",
   "metadata": {},
   "source": [
    "# Termperature"
   ]
  },
  {
   "cell_type": "code",
   "execution_count": 1,
   "id": "4fd72c99",
   "metadata": {},
   "outputs": [],
   "source": [
    "import matplotlib.pyplot as plt\n",
    "import pandas as pd"
   ]
  },
  {
   "cell_type": "code",
   "execution_count": null,
   "id": "4b4fb988",
   "metadata": {},
   "outputs": [],
   "source": [
    "temperature = pd.read_csv(\n",
    "    \"../data/limited/temperature.csv\",\n",
    "    parse_dates=True,\n",
    "    index_col=\"Dátum\"\n",
    ")\n",
    "temperature.index.freq = \"B\""
   ]
  },
  {
   "cell_type": "markdown",
   "id": "3acb939b",
   "metadata": {},
   "source": [
    "## Plot"
   ]
  },
  {
   "cell_type": "code",
   "execution_count": null,
   "id": "8db26080",
   "metadata": {},
   "outputs": [],
   "source": [
    "plt.figure(figsize=(12, 5))\n",
    "plt.plot(temperature)\n",
    "plt.title(\"Budapesti Értéktőzsde Indexe 2015-2019\")\n",
    "plt.xlabel(\"Év\")\n",
    "plt.ylabel(\"temperature Index\")\n",
    "plt.grid(True)\n",
    "plt.savefig(\"../docs/figures/temperature.png\")\n",
    "plt.savefig(\"../docs/figures/temperature.svg\")\n",
    "plt.show()"
   ]
  },
  {
   "cell_type": "markdown",
   "id": "3619c803",
   "metadata": {},
   "source": [
    "## Split dataset"
   ]
  },
  {
   "cell_type": "code",
   "execution_count": null,
   "id": "e31cf65e",
   "metadata": {},
   "outputs": [],
   "source": [
    "temperature_train = temperature.loc[:\"2018\"]\n",
    "temperature_test = temperature.loc[\"2019\":]\n",
    "temperature_train.index.freq = \"B\"\n",
    "temperature_test.index.freq = \"B\""
   ]
  },
  {
   "cell_type": "markdown",
   "id": "382d7699",
   "metadata": {},
   "source": [
    "## SARIMA"
   ]
  },
  {
   "cell_type": "code",
   "execution_count": null,
   "id": "2d52c9fc",
   "metadata": {},
   "outputs": [],
   "source": [
    "from statsmodels.graphics.tsaplots import plot_acf, plot_pacf\n",
    "from statsmodels.tsa.arima.model import ARIMA\n",
    "from statsmodels.tsa.seasonal import MSTL\n",
    "\n",
    "# 1. Step: Create MSTL model with weekly and yearly periodicity\n",
    "mstl = MSTL(temperature_train[\"Utolsó ár\"], periods=(21))\n",
    "mstl_result = mstl.fit()\n",
    "fig = mstl_result.plot()\n",
    "fig.set_size_inches(15, 10)\n",
    "plt.tight_layout()\n",
    "plt.show()\n",
    "\n",
    "\n",
    "# Plot ACF and PACF\n",
    "fig, (ax1, ax2) = plt.subplots(2,1, figsize=(12,10))\n",
    "plot_acf(mstl_result.resid, lags=365, zero=False, ax=ax1)\n",
    "plot_pacf(mstl_result.resid, lags=365, zero=False, ax=ax2)\n",
    "plt.show()\n",
    "\n",
    "# 2. Step: plot residuals ARIMA\n",
    "resid_arima = ARIMA(mstl_result.resid, order=(1, 0, 1)).fit()\n",
    "fig, (ax1, ax2) = plt.subplots(2,1, figsize=(12,10))\n",
    "plot_acf(resid_arima.resid, lags=25, zero=False, ax=ax1)\n",
    "plot_pacf(resid_arima.resid, lags=25, zero=False, ax=ax2)\n",
    "plt.show()\n",
    "\n",
    "\n",
    "# Forecasting\n",
    "temperature_forecast = pd.DataFrame(\n",
    "    index=temperature_test.index,\n",
    "    columns=temperature_test.columns\n",
    ")\n",
    "for i, date in enumerate(temperature_test.index):\n",
    "    # Create MSTL model with weekly and yearly periodicity\n",
    "    mstl = MSTL(temperature_train[\"Utolsó ár\"], periods=(21))\n",
    "    mstl_result = mstl.fit()\n",
    "\n",
    "    # Decomposition\n",
    "    trend = mstl_result.trend\n",
    "    seasonal_021 = mstl_result.seasonal\n",
    "    resid = mstl_result.resid\n",
    "\n",
    "    resid_arima = ARIMA(resid, order=(1, 0, 1)).fit()\n",
    "\n",
    "    # Forecasting\n",
    "    trend_forecast = trend.iloc[-1]\n",
    "    seasonal_021_forecast = seasonal_021.iloc[-(21 - (i % 21))] if i % 21 != 0 else seasonal_021.iloc[-21]\n",
    "\n",
    "    seasonal_forecast = seasonal_021_forecast\n",
    "    resid_forecast = resid_arima.forecast(steps=1).iloc[0]\n",
    "\n",
    "    forecast = trend_forecast + seasonal_forecast + resid_forecast\n",
    "\n",
    "    temperature_forecast.loc[date, \"Utolsó ár\"] = forecast\n",
    "\n",
    "    actual_value = temperature_test.loc[date, \"Utolsó ár\"]\n",
    "\n",
    "    new_row = pd.DataFrame(\n",
    "        {\"Utolsó ár\": [actual_value]}, \n",
    "        index=[date]\n",
    "    )\n",
    "    new_row.index.freq = \"D\"\n",
    "    temperature_train = pd.concat([temperature_train, new_row])"
   ]
  },
  {
   "cell_type": "code",
   "execution_count": null,
   "id": "b1e47bf6",
   "metadata": {},
   "outputs": [],
   "source": [
    "# Plot the result\n",
    "plt.figure(figsize=(12, 5))\n",
    "\n",
    "# Plot actual data (differences)\n",
    "plt.plot(\n",
    "    temperature_test.index,\n",
    "    temperature_test[\"Utolsó ár\"], \n",
    "    label=\"temperature - Tényadat\",\n",
    "    color=\"blue\",\n",
    "    linewidth=1,\n",
    ")\n",
    "\n",
    "# Plot forecasted data\n",
    "plt.plot(\n",
    "    temperature_forecast.index,\n",
    "    temperature_forecast[\"Utolsó ár\"],\n",
    "    label=\"temperature - Előrejelzett érték\",\n",
    "    color=\"green\",\n",
    "    linewidth=1,\n",
    ")\n",
    "\n",
    "plt.title(\"temperature index valós és előrejelzett alakulása 2019-ben\")\n",
    "plt.xlabel(\"Év\")\n",
    "plt.ylabel(\"temperature index\")\n",
    "plt.legend()\n",
    "plt.grid(True, alpha=0.3)\n",
    "plt.tight_layout()\n",
    "plt.savefig(\"../docs/figures/temperature_daily_forecast.png\")\n",
    "plt.savefig(\"../docs/figures/temperature_daily_forecast.svg\")\n",
    "plt.show()"
   ]
  }
 ],
 "metadata": {
  "kernelspec": {
   "display_name": "3.13.1",
   "language": "python",
   "name": "python3"
  },
  "language_info": {
   "codemirror_mode": {
    "name": "ipython",
    "version": 3
   },
   "file_extension": ".py",
   "mimetype": "text/x-python",
   "name": "python",
   "nbconvert_exporter": "python",
   "pygments_lexer": "ipython3",
   "version": "3.13.1"
  }
 },
 "nbformat": 4,
 "nbformat_minor": 5
}
