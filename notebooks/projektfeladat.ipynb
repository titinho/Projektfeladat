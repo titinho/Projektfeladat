{
 "cells": [
  {
   "cell_type": "markdown",
   "id": "a6ca82ec",
   "metadata": {},
   "source": [
    "# Projektfeladat"
   ]
  },
  {
   "cell_type": "code",
   "execution_count": 1,
   "id": "75622b82",
   "metadata": {},
   "outputs": [],
   "source": [
    "import matplotlib.pyplot as plt\n",
    "import numpy as np\n",
    "import os\n",
    "import pandas as pd"
   ]
  },
  {
   "cell_type": "markdown",
   "id": "69bc10b6",
   "metadata": {},
   "source": [
    "## Adatok betöltése és előfeldolgozása"
   ]
  },
  {
   "cell_type": "markdown",
   "id": "d9a3579b",
   "metadata": {},
   "source": [
    "### Negyedéves GDP adatok"
   ]
  },
  {
   "cell_type": "code",
   "execution_count": null,
   "id": "f0346608",
   "metadata": {},
   "outputs": [],
   "source": []
  },
  {
   "cell_type": "code",
   "execution_count": null,
   "id": "31d79db3",
   "metadata": {},
   "outputs": [],
   "source": []
  }
 ],
 "metadata": {
  "kernelspec": {
   "display_name": ".venv",
   "language": "python",
   "name": "python3"
  },
  "language_info": {
   "codemirror_mode": {
    "name": "ipython",
    "version": 3
   },
   "file_extension": ".py",
   "mimetype": "text/x-python",
   "name": "python",
   "nbconvert_exporter": "python",
   "pygments_lexer": "ipython3",
   "version": "3.13.4"
  }
 },
 "nbformat": 4,
 "nbformat_minor": 5
}
